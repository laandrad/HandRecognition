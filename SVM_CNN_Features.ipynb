{
 "cells": [
  {
   "cell_type": "code",
   "execution_count": 33,
   "metadata": {},
   "outputs": [],
   "source": [
    "from sklearn.svm import LinearSVC\n",
    "from sklearn.metrics import accuracy_score\n",
    "from sklearn.externals import joblib\n",
    "import pickle"
   ]
  },
  {
   "cell_type": "code",
   "execution_count": 34,
   "metadata": {},
   "outputs": [],
   "source": [
    "with open('/Users/alejandro/AnacondaProjects/train_set_new_feat.pkl', 'rb') as file:\n",
    "    train_feat, train_lab = pickle.load(file)\n",
    "\n",
    "with open('/Users/alejandro/AnacondaProjects/dev_set_new_feat.pkl', 'rb') as file:\n",
    "    dev_feat, dev_lab = pickle.load(file)"
   ]
  },
  {
   "cell_type": "code",
   "execution_count": 35,
   "metadata": {},
   "outputs": [
    {
     "data": {
      "text/plain": [
       "LinearSVC(C=1.0, class_weight=None, dual=True, fit_intercept=True,\n",
       "     intercept_scaling=1, loss='squared_hinge', max_iter=1000,\n",
       "     multi_class='ovr', penalty='l2', random_state=None, tol=0.0001,\n",
       "     verbose=0)"
      ]
     },
     "execution_count": 35,
     "metadata": {},
     "output_type": "execute_result"
    }
   ],
   "source": [
    "model = LinearSVC()\n",
    "model.fit(train_feat, train_lab)"
   ]
  },
  {
   "cell_type": "code",
   "execution_count": 36,
   "metadata": {},
   "outputs": [
    {
     "name": "stdout",
     "output_type": "stream",
     "text": [
      "In sample accuracy: 0.983\n"
     ]
    },
    {
     "data": {
      "text/plain": [
       "array([0, 1, 0, 1, 0])"
      ]
     },
     "execution_count": 36,
     "metadata": {},
     "output_type": "execute_result"
    }
   ],
   "source": [
    "pred = model.predict(train_feat)\n",
    "in_sample_acc = accuracy_score(pred, train_lab)\n",
    "print('In sample accuracy:', in_sample_acc)\n",
    "pred[:5]"
   ]
  },
  {
   "cell_type": "code",
   "execution_count": 37,
   "metadata": {},
   "outputs": [
    {
     "name": "stdout",
     "output_type": "stream",
     "text": [
      "Out of sample accuracy: 0.977777777778\n"
     ]
    }
   ],
   "source": [
    "pred = model.predict(dev_feat)\n",
    "out_sample_acc = accuracy_score(pred, dev_lab)\n",
    "print('Out of sample accuracy:', out_sample_acc)"
   ]
  },
  {
   "cell_type": "code",
   "execution_count": 38,
   "metadata": {},
   "outputs": [
    {
     "name": "stdout",
     "output_type": "stream",
     "text": [
      "Model saved to: /Users/alejandro/AnacondaProjects/cv/svm_model.pkl\n"
     ]
    }
   ],
   "source": [
    "# Save model for future retrieval\n",
    "joblib.dump(model, \"/Users/alejandro/AnacondaProjects/cv/svm_model.pkl\", protocol=2)\n",
    "print(\"Model saved to: /Users/alejandro/AnacondaProjects/cv/svm_model.pkl\")"
   ]
  },
  {
   "cell_type": "code",
   "execution_count": 39,
   "metadata": {},
   "outputs": [
    {
     "name": "stderr",
     "output_type": "stream",
     "text": [
      "/anaconda3/envs/cv/lib/python3.6/site-packages/keras/models.py:252: UserWarning: No training configuration found in save file: the model was *not* compiled. Compile it manually.\n",
      "  warnings.warn('No training configuration found in save file: '\n"
     ]
    },
    {
     "data": {
      "text/plain": [
       "array([1, 1, 0])"
      ]
     },
     "execution_count": 39,
     "metadata": {},
     "output_type": "execute_result"
    }
   ],
   "source": [
    "import cv2\n",
    "import numpy as np\n",
    "from keras.models import load_model\n",
    "\n",
    "model_cnn = load_model('/Users/alejandro/AnacondaProjects/cv/model_cnn.h5')\n",
    "\n",
    "img1 = cv2.imread('/Users/alejandro/AnacondaProjects/Hand_Data/test/hand/frame_flip_35.jpg', 0).reshape(1, 100, 80, 1)\n",
    "img2 = cv2.imread('/Users/alejandro/AnacondaProjects/Hand_Data/test/no_hand/frame_flip_89.jpg', 0).reshape(1, 100, 80, 1)\n",
    "img = np.concatenate((img1, img2))\n",
    "\n",
    "feat = model_cnn.predict(img)\n",
    "feat = np.concatenate((feat, train_feat[30].reshape(1, -1)))\n",
    "model.predict(feat)"
   ]
  },
  {
   "cell_type": "code",
   "execution_count": 51,
   "metadata": {},
   "outputs": [],
   "source": [
    "def pred_from_file(files, model_cnn, model, color=0):\n",
    "    predictions = []\n",
    "    with progressbar.ProgressBar(max_value=len(files)) as bar:\n",
    "        for i in range(len(files)):\n",
    "            img = cv2.imread(path + files[i], color)\n",
    "            img = img.reshape((1, 100, 80, 1))//255\n",
    "            feat = model_cnn.predict(img)\n",
    "            pred = model.predict(feat)\n",
    "            predictions.append(pred)\n",
    "            bar.update(i)\n",
    "    return predictions"
   ]
  },
  {
   "cell_type": "code",
   "execution_count": 54,
   "metadata": {},
   "outputs": [
    {
     "name": "stderr",
     "output_type": "stream",
     "text": [
      "100% (981 of 981) |#######################| Elapsed Time: 0:00:04 Time: 0:00:04\n",
      "100% (1192 of 1192) |#####################| Elapsed Time: 0:00:05 Time: 0:00:05\n"
     ]
    },
    {
     "name": "stdout",
     "output_type": "stream",
     "text": [
      "In-sample performance:\n",
      "False negatives rate: 1.76\n",
      "False positive rate: 1.93\n",
      "Accuracy: 0.98155\n"
     ]
    }
   ],
   "source": [
    "import os\n",
    "import progressbar\n",
    "\n",
    "# Out-of-sample performance\n",
    "path = '/Users/alejandro/AnacondaProjects/Hand_Data/test/hand/'\n",
    "files = os.listdir(path)\n",
    "pred_hand = pred_from_file(files, model_cnn, model, color=0)\n",
    "path = '/Users/alejandro/AnacondaProjects/Hand_Data/test/no_hand/'\n",
    "files = os.listdir(path)\n",
    "pred_no_hand = pred_from_file(files, model_cnn, model, color=0)\n",
    "FN = round(np.sum(pred_hand)/len(files), 4) * 100\n",
    "FP = 100 - round(np.sum(pred_no_hand)/len(files), 4) * 100\n",
    "TN = 100 - FN\n",
    "TP = 100 - FP\n",
    "Acc = (TP + TN) / (TP + TN + FP + FN)\n",
    "\n",
    "print('Test sample performance:')\n",
    "print('False negatives rate:', FN)\n",
    "print('False positive rate:', FP)\n",
    "print('Accuracy:', Acc)"
   ]
  }
 ],
 "metadata": {
  "kernelspec": {
   "display_name": "Python 3",
   "language": "python",
   "name": "python3"
  },
  "language_info": {
   "codemirror_mode": {
    "name": "ipython",
    "version": 3
   },
   "file_extension": ".py",
   "mimetype": "text/x-python",
   "name": "python",
   "nbconvert_exporter": "python",
   "pygments_lexer": "ipython3",
   "version": "3.6.4"
  }
 },
 "nbformat": 4,
 "nbformat_minor": 2
}
