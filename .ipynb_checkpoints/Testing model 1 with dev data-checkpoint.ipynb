{
 "cells": [
  {
   "cell_type": "code",
   "execution_count": 1,
   "metadata": {},
   "outputs": [
    {
     "name": "stderr",
     "output_type": "stream",
     "text": [
      "Using TensorFlow backend.\n"
     ]
    }
   ],
   "source": [
    "import os\n",
    "import progressbar\n",
    "import cv2\n",
    "import numpy as np\n",
    "from keras.models import load_model\n",
    "\n",
    "model = load_model('/Users/alejandro/AnacondaProjects/cv/model.hd5')\n",
    "\n",
    "path1 = '/Users/alejandro/Dropbox (Work)/Hand_Data/dev/hand/'\n",
    "path2 = '/Users/alejandro/Dropbox (Work)/Hand_Data/dev/no_hand/'\n",
    "\n",
    "files = os.listdir(path1)"
   ]
  },
  {
   "cell_type": "code",
   "execution_count": 2,
   "metadata": {},
   "outputs": [],
   "source": [
    "def dl_pred(path):\n",
    "    img = cv2.imread(path)\n",
    "    img = cv2.resize(img, (200, 250))\n",
    "    img = img.reshape(1,250, 200, 3)\n",
    "    return model.predict(img)"
   ]
  },
  {
   "cell_type": "code",
   "execution_count": 4,
   "metadata": {},
   "outputs": [
    {
     "name": "stderr",
     "output_type": "stream",
     "text": [
      "100% (3523 of 3523) |#####################| Elapsed Time: 0:24:27 Time: 0:24:27\n"
     ]
    }
   ],
   "source": [
    "pred_hand = []\n",
    "with progressbar.ProgressBar(max_value=len(files)) as bar:\n",
    "    for i in range(len(files)):\n",
    "        pred = np.argmax(dl_pred(path1 + files[i]))\n",
    "        pred_hand.append(pred)\n",
    "        bar.update(i)"
   ]
  },
  {
   "cell_type": "code",
   "execution_count": 10,
   "metadata": {},
   "outputs": [
    {
     "name": "stdout",
     "output_type": "stream",
     "text": [
      "False negatives rate: 23.67\n"
     ]
    }
   ],
   "source": [
    "print('False negatives rate:', round(np.sum(pred_hand)/len(files), 4) * 100)"
   ]
  },
  {
   "cell_type": "code",
   "execution_count": 11,
   "metadata": {},
   "outputs": [
    {
     "name": "stderr",
     "output_type": "stream",
     "text": [
      "100% (4981 of 4981) |#####################| Elapsed Time: 0:34:00 Time: 0:34:00\n"
     ]
    }
   ],
   "source": [
    "files = os.listdir(path2)\n",
    "pred_no_hand = []\n",
    "with progressbar.ProgressBar(max_value=len(files)) as bar:\n",
    "    for i in range(len(files)):\n",
    "        pred = np.argmax(dl_pred(path2 + files[i]))\n",
    "        pred_no_hand.append(pred)\n",
    "        bar.update(i)"
   ]
  },
  {
   "cell_type": "code",
   "execution_count": 14,
   "metadata": {},
   "outputs": [
    {
     "name": "stdout",
     "output_type": "stream",
     "text": [
      "False positive rate: 2.49\n"
     ]
    }
   ],
   "source": [
    "print('False positive rate:', 100 - round(np.sum(pred_no_hand)/len(files), 4) * 100)"
   ]
  },
  {
   "cell_type": "code",
   "execution_count": null,
   "metadata": {},
   "outputs": [],
   "source": []
  }
 ],
 "metadata": {
  "kernelspec": {
   "display_name": "Python 3",
   "language": "python",
   "name": "python3"
  },
  "language_info": {
   "codemirror_mode": {
    "name": "ipython",
    "version": 3
   },
   "file_extension": ".py",
   "mimetype": "text/x-python",
   "name": "python",
   "nbconvert_exporter": "python",
   "pygments_lexer": "ipython3",
   "version": "3.6.4"
  }
 },
 "nbformat": 4,
 "nbformat_minor": 2
}
