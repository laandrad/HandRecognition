{
 "cells": [
  {
   "cell_type": "code",
   "execution_count": 1,
   "metadata": {},
   "outputs": [],
   "source": [
    "import os\n",
    "import itertools\n",
    "import progressbar\n",
    "import cv2\n",
    "import numpy as np\n",
    "import pandas as pd"
   ]
  },
  {
   "cell_type": "code",
   "execution_count": 2,
   "metadata": {},
   "outputs": [],
   "source": [
    "class TDT():\n",
    "    \n",
    "    def __init__(self, path, label, path_out):\n",
    "        self.path = path\n",
    "        self.label = label\n",
    "        self.path_out = path_out \n",
    "        \n",
    "    \n",
    "    def copy_to_path(self, cut, subset=None):\n",
    "        \n",
    "        files = os.listdir(self.path)\n",
    "        files = [x for x in files if x.endswith('.jpg')]\n",
    "        \n",
    "        if subset != None:\n",
    "            files = pd.Series(files).iloc[subset].tolist()\n",
    "\n",
    "        datasets = tdt_split(files)\n",
    "        os.makedirs(self.path_out + 'train/' + self.label, exist_ok=True)\n",
    "        os.makedirs(self.path_out + 'dev/' + self.label, exist_ok=True)\n",
    "        os.makedirs(self.path_out + 'test/' + self.label, exist_ok=True)\n",
    "\n",
    "        dat_type = ['train', 'dev', 'test']\n",
    "\n",
    "        if not cut:\n",
    "            for i in range(len(dat_type)):\n",
    "                print(\"working on:\", self.path_out + dat_type[i] + '/' + self.label + '/')\n",
    "                copy_reduce_image(self.path, datasets[dat_type[i]], self.path_out + dat_type[i] + '/' + self.label + '/')\n",
    "        else:\n",
    "            for i in range(len(dat_type)):\n",
    "                print(\"working on:\", self.path_out + dat_type[i] + '/' + self.label + '/')\n",
    "                copy_cut_image(self.path, datasets[dat_type[i]], self.path_out + dat_type[i] + '/' + self.label + '/')\n",
    "\n",
    " \n",
    "def tdt_split(files):\n",
    "    files = pd.Series(files)\n",
    "    subsample = pd.Series(np.random.choice(3, len(files), p=[0.7, 0.15, 0.15]))\n",
    "    df = pd.DataFrame({'files': files, 'sample': list(subsample)})\n",
    "    dict = {}\n",
    "    dict['train'] = df.files[df['sample'] == 0]\n",
    "    dict['dev'] = df.files[df['sample'] == 1]\n",
    "    dict['test'] = df.files[df['sample'] == 2]\n",
    "\n",
    "    return dict\n",
    "\n",
    "\n",
    "def copy_reduce_image(path_in, folder, path_out):\n",
    "    files = list(folder)\n",
    "    for i in range(len(files)):\n",
    "        img = cv2.imread(path_in + files[i], 0)\n",
    "        img = cv2.resize(img, (100, 80))\n",
    "        img = cv2.flip(img, 0)\n",
    "        cv2.imwrite(path_out + files[i], img)\n",
    "\n",
    "\n",
    "def copy_cut_image(path_in, folder, path_out):\n",
    "    files = list(folder)\n",
    "    for i in range(len(files)):\n",
    "        img = cv2.imread(path_in + files[i], 0)\n",
    "        img = img[100:180, 100:200]\n",
    "        if img.shape == (80, 100):\n",
    "            cv2.imwrite(path_out + files[i], img)"
   ]
  },
  {
   "cell_type": "code",
   "execution_count": 3,
   "metadata": {},
   "outputs": [],
   "source": [
    "path1 = '/Users/alejandro/Downloads/Hands/'\n",
    "path2 = '/Users/alejandro/Downloads/cocostuff-10k-v1/images/'\n",
    "path_out = '/Users/alejandro/AnacondaProjects/Hand_Data/'"
   ]
  },
  {
   "cell_type": "code",
   "execution_count": 4,
   "metadata": {},
   "outputs": [
    {
     "name": "stdout",
     "output_type": "stream",
     "text": [
      "working on: /Users/alejandro/AnacondaProjects/Hand_Data/train/hand/\n",
      "working on: /Users/alejandro/AnacondaProjects/Hand_Data/dev/hand/\n",
      "working on: /Users/alejandro/AnacondaProjects/Hand_Data/test/hand/\n"
     ]
    }
   ],
   "source": [
    "hands = TDT(path1, 'hand', path_out)\n",
    "hands.copy_to_path(cut=False, subset=None)"
   ]
  },
  {
   "cell_type": "code",
   "execution_count": 5,
   "metadata": {},
   "outputs": [
    {
     "name": "stdout",
     "output_type": "stream",
     "text": [
      "working on: /Users/alejandro/AnacondaProjects/Hand_Data/train/no_hand/\n",
      "working on: /Users/alejandro/AnacondaProjects/Hand_Data/dev/no_hand/\n",
      "working on: /Users/alejandro/AnacondaProjects/Hand_Data/test/no_hand/\n"
     ]
    }
   ],
   "source": [
    "no_hands = TDT(path2, 'no_hand', path_out)\n",
    "no_hands.copy_to_path(cut=True, subset=None)"
   ]
  },
  {
   "cell_type": "code",
   "execution_count": null,
   "metadata": {},
   "outputs": [],
   "source": []
  }
 ],
 "metadata": {
  "kernelspec": {
   "display_name": "Python 3",
   "language": "python",
   "name": "python3"
  },
  "language_info": {
   "codemirror_mode": {
    "name": "ipython",
    "version": 3
   },
   "file_extension": ".py",
   "mimetype": "text/x-python",
   "name": "python",
   "nbconvert_exporter": "python",
   "pygments_lexer": "ipython3",
   "version": "3.6.4"
  }
 },
 "nbformat": 4,
 "nbformat_minor": 2
}
