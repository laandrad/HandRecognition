{
 "cells": [
  {
   "cell_type": "code",
   "execution_count": 1,
   "metadata": {},
   "outputs": [
    {
     "name": "stderr",
     "output_type": "stream",
     "text": [
      "Using TensorFlow backend.\n"
     ]
    }
   ],
   "source": [
    "from keras.models import Sequential\n",
    "from keras.layers import Conv2D, MaxPooling2D\n",
    "from keras.layers import Activation, Dropout, Flatten, Dense\n",
    "from keras.layers.normalization import BatchNormalization\n",
    "from keras import backend as K\n",
    "\n",
    "import os\n",
    "import numpy as np\n",
    "import cv2\n",
    "import progressbar\n",
    "import pickle"
   ]
  },
  {
   "cell_type": "code",
   "execution_count": 2,
   "metadata": {},
   "outputs": [],
   "source": [
    "# dimensions of our images.\n",
    "img_width, img_height = 90, 90\n",
    "epochs = 5\n",
    "batch_size = 100\n",
    "n_channels = 1\n",
    "rbg = 0"
   ]
  },
  {
   "cell_type": "code",
   "execution_count": 3,
   "metadata": {},
   "outputs": [],
   "source": [
    "with open('/Users/alejandro/AnacondaProjects/train_set1.pkl', 'rb') as file:\n",
    "    train_feat1, train_lab1 = pickle.load(file)\n",
    "with open('/Users/alejandro/AnacondaProjects/dev_set1.pkl', 'rb') as file:\n",
    "    dev_feat1, dev_lab1 = pickle.load(file)\n",
    "with open('/Users/alejandro/AnacondaProjects/train_set2.pkl', 'rb') as file:\n",
    "    train_feat2, train_lab2 = pickle.load(file)\n",
    "with open('/Users/alejandro/AnacondaProjects/dev_set2.pkl', 'rb') as file:\n",
    "    dev_feat2, dev_lab2 = pickle.load(file)"
   ]
  },
  {
   "cell_type": "code",
   "execution_count": 6,
   "metadata": {},
   "outputs": [
    {
     "name": "stdout",
     "output_type": "stream",
     "text": [
      "train features: (18000, 90, 90, 1), train labels: (18000,)\n",
      "dev features: (3600, 90, 90, 1), dev labels: (3600,)\n"
     ]
    }
   ],
   "source": [
    "train_lab1 = np.array(train_lab1)\n",
    "dev_lab1 = np.array(dev_lab1)\n",
    "train_lab2 = np.array(train_lab2)\n",
    "dev_lab2 = np.array(dev_lab2)\n",
    "\n",
    "train_feat = np.vstack((train_feat1, train_feat2))\n",
    "train_lab = np.concatenate((train_lab1, train_lab2))\n",
    "dev_feat = np.vstack((dev_feat1, dev_feat2))\n",
    "dev_lab = np.concatenate((dev_lab1, dev_lab2))\n",
    "\n",
    "print('train features: {}, train labels: {}'.format(train_feat.shape, train_lab.shape))\n",
    "print('dev features: {}, dev labels: {}'.format(dev_feat.shape, dev_lab.shape))\n"
   ]
  },
  {
   "cell_type": "code",
   "execution_count": 7,
   "metadata": {},
   "outputs": [],
   "source": [
    "if K.image_data_format() == 'channels_first':\n",
    "    input_shape = (n_channels, img_width, img_height)\n",
    "else:\n",
    "    input_shape = (img_width, img_height, n_channels)\n",
    "\n",
    "# layer 1\n",
    "model = Sequential()\n",
    "model.add(Conv2D(8, (3, 3), input_shape=input_shape))\n",
    "# model.add(BatchNormalization())\n",
    "model.add(Activation('relu'))\n",
    "model.add(Dropout(0.8))\n",
    "model.add(MaxPooling2D(pool_size=(2, 2)))\n",
    "\n",
    "# layer 2\n",
    "model = Sequential()\n",
    "model.add(Conv2D(16, (3, 3), input_shape=input_shape))\n",
    "model.add(BatchNormalization())\n",
    "model.add(Activation('relu'))\n",
    "model.add(Dropout(0.8))\n",
    "model.add(MaxPooling2D(pool_size=(2, 2)))\n",
    "\n",
    "# layer 3\n",
    "model.add(Conv2D(32, (3, 3)))\n",
    "# model.add(BatchNormalization())\n",
    "model.add(Activation('relu'))\n",
    "model.add(Dropout(0.8))\n",
    "model.add(MaxPooling2D(pool_size=(2, 2)))\n",
    "\n",
    "model.add(Flatten())\n",
    "\n",
    "# layer 4\n",
    "model.add(Dense(128))\n",
    "# model.add(BatchNormalization())\n",
    "model.add(Activation('relu'))\n",
    "model.add(Dropout(0.8))\n",
    "\n",
    "# layer 5\n",
    "model.add(Dense(1))\n",
    "model.add(Activation('sigmoid'))\n",
    "\n",
    "model.compile(loss='binary_crossentropy',\n",
    "              optimizer='adagrad',\n",
    "              metrics=['accuracy'])"
   ]
  },
  {
   "cell_type": "code",
   "execution_count": 8,
   "metadata": {},
   "outputs": [
    {
     "name": "stdout",
     "output_type": "stream",
     "text": [
      "Train on 18000 samples, validate on 3600 samples\n",
      "Epoch 1/5\n",
      "18000/18000 [==============================] - 152s 8ms/step - loss: 0.6144 - acc: 0.9181 - val_loss: 0.4514 - val_acc: 0.8342\n",
      "Epoch 2/5\n",
      "18000/18000 [==============================] - 147s 8ms/step - loss: 0.2227 - acc: 0.9602 - val_loss: 0.3776 - val_acc: 0.9547\n",
      "Epoch 3/5\n",
      "18000/18000 [==============================] - 142s 8ms/step - loss: 0.1736 - acc: 0.9677 - val_loss: 0.2893 - val_acc: 0.9833\n",
      "Epoch 4/5\n",
      "18000/18000 [==============================] - 142s 8ms/step - loss: 0.1571 - acc: 0.9693 - val_loss: 0.2465 - val_acc: 0.9842\n",
      "Epoch 5/5\n",
      "18000/18000 [==============================] - 145s 8ms/step - loss: 0.1402 - acc: 0.9736 - val_loss: 0.2491 - val_acc: 0.9811\n"
     ]
    },
    {
     "data": {
      "text/plain": [
       "<keras.callbacks.History at 0x12d897208>"
      ]
     },
     "execution_count": 8,
     "metadata": {},
     "output_type": "execute_result"
    }
   ],
   "source": [
    "model.fit(\n",
    "    train_feat, \n",
    "    train_lab, \n",
    "    batch_size=batch_size, \n",
    "    epochs=epochs, \n",
    "    verbose=1,\n",
    "    validation_data=(dev_feat, dev_lab),\n",
    "    shuffle=True)"
   ]
  },
  {
   "cell_type": "code",
   "execution_count": 9,
   "metadata": {},
   "outputs": [],
   "source": [
    "model.save('/Users/alejandro/AnacondaProjects/cv/model2.h5')"
   ]
  },
  {
   "cell_type": "code",
   "execution_count": 10,
   "metadata": {},
   "outputs": [],
   "source": [
    "with open('/Users/alejandro/AnacondaProjects/train_set.pkl', 'wb') as file:\n",
    "    pickle.dump((train_feat, train_lab), file)\n",
    "with open('/Users/alejandro/AnacondaProjects/dev_set.pkl', 'wb') as file:\n",
    "    pickle.dump((dev_feat, dev_lab), file)"
   ]
  },
  {
   "cell_type": "code",
   "execution_count": null,
   "metadata": {},
   "outputs": [],
   "source": [
    "# def pred_from_file(files, model, color=0):\n",
    "#     predictions = []\n",
    "#     with progressbar.ProgressBar(max_value=len(files)) as bar:\n",
    "#         for i in range(len(files)):\n",
    "#             img = cv2.imread(path + files[i], color)\n",
    "#             img = img.reshape((1, img_width, img_height, n_channels))//255\n",
    "#             pred = model.predict(img)\n",
    "#             pred = np.argmax(pred)\n",
    "#             predictions.append(pred)\n",
    "#             bar.update(i)\n",
    "#     return predictions"
   ]
  },
  {
   "cell_type": "code",
   "execution_count": null,
   "metadata": {},
   "outputs": [],
   "source": [
    "# # In-sample performance\n",
    "# path = '/Users/alejandro/AnacondaProjects/Hand_Data/train/hand/'\n",
    "# files = os.listdir(path)\n",
    "# pred_hand = pred_from_file(files, model2, color=rbg)"
   ]
  },
  {
   "cell_type": "code",
   "execution_count": null,
   "metadata": {},
   "outputs": [],
   "source": [
    "# path = '/Users/alejandro/AnacondaProjects/Hand_Data/train/no_hand/'\n",
    "# files = os.listdir(path)\n",
    "# pred_no_hand = pred_from_file(files, model2, color=rbg)"
   ]
  },
  {
   "cell_type": "code",
   "execution_count": null,
   "metadata": {},
   "outputs": [],
   "source": [
    "# FN = round(np.sum(pred_hand)/len(files), 4) * 100\n",
    "# FP = 100 - round(np.sum(pred_no_hand)/len(files), 4) * 100\n",
    "# TN = 100 - FN\n",
    "# TP = 100 - FP\n",
    "# Acc = (TP + TN) / (TP + TN + FP + FN)\n",
    "\n",
    "# print('In-sample performance:')\n",
    "# print('False negatives rate:', FN)\n",
    "# print('False positive rate:', FP)\n",
    "# print('Accuracy:', Acc)"
   ]
  },
  {
   "cell_type": "code",
   "execution_count": null,
   "metadata": {},
   "outputs": [],
   "source": [
    "# # Out of sample performance\n",
    "# path = '/Users/alejandro/AnacondaProjects/Hand_Data/dev/hand/'\n",
    "# files = os.listdir(path)\n",
    "# pred_hand = pred_from_file(files, model2, color=rbg)"
   ]
  },
  {
   "cell_type": "code",
   "execution_count": null,
   "metadata": {},
   "outputs": [],
   "source": [
    "# path = '/Users/alejandro/AnacondaProjects/Hand_Data/dev/no_hand/'\n",
    "# files = os.listdir(path)\n",
    "# pred_no_hand = pred_from_file(files, model2, color=rbg)"
   ]
  },
  {
   "cell_type": "code",
   "execution_count": null,
   "metadata": {},
   "outputs": [],
   "source": [
    "# FN = round(np.sum(pred_hand)/len(files), 4) * 100\n",
    "# FP = 100 - round(np.sum(pred_no_hand)/len(files), 4) * 100\n",
    "# TN = 100 - FN\n",
    "# TP = 100 - FP\n",
    "# Acc = (TP + TN) / (TP + TN + FP + FN)\n",
    "\n",
    "# print('Out-of-sample performance:')\n",
    "# print('False negatives rate:', FN)\n",
    "# print('False positive rate:', FP)\n",
    "# print('Accuracy:', Acc)"
   ]
  },
  {
   "cell_type": "code",
   "execution_count": null,
   "metadata": {},
   "outputs": [],
   "source": []
  }
 ],
 "metadata": {
  "kernelspec": {
   "display_name": "Python 3",
   "language": "python",
   "name": "python3"
  },
  "language_info": {
   "codemirror_mode": {
    "name": "ipython",
    "version": 3
   },
   "file_extension": ".py",
   "mimetype": "text/x-python",
   "name": "python",
   "nbconvert_exporter": "python",
   "pygments_lexer": "ipython3",
   "version": "3.6.4"
  }
 },
 "nbformat": 4,
 "nbformat_minor": 2
}
