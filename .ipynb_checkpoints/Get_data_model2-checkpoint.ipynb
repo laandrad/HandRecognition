{
 "cells": [
  {
   "cell_type": "code",
   "execution_count": 1,
   "metadata": {},
   "outputs": [],
   "source": [
    "import os\n",
    "import numpy as np\n",
    "import cv2\n",
    "import progressbar\n",
    "import pickle"
   ]
  },
  {
   "cell_type": "code",
   "execution_count": 2,
   "metadata": {},
   "outputs": [],
   "source": [
    "img_width, img_height = 100, 80\n",
    "n_channels = 1\n",
    "rbg = 0"
   ]
  },
  {
   "cell_type": "code",
   "execution_count": 3,
   "metadata": {},
   "outputs": [
    {
     "data": {
      "text/plain": [
       "14700"
      ]
     },
     "execution_count": 3,
     "metadata": {},
     "output_type": "execute_result"
    }
   ],
   "source": [
    "h = len(os.listdir('/Users/alejandro/AnacondaProjects/Hand_Data/train/hand'))\n",
    "nh = len(os.listdir('/Users/alejandro/AnacondaProjects/Hand_Data/train/no_hand'))\n",
    "h + nh"
   ]
  },
  {
   "cell_type": "code",
   "execution_count": 15,
   "metadata": {},
   "outputs": [],
   "source": [
    "def get_data(path, n, color=0):\n",
    "    hands = os.listdir(path + 'hand/')\n",
    "    no_hands = os.listdir(path + 'no_hand/')\n",
    "    \n",
    "    data = np.zeros((1, img_width, img_height, n_channels))\n",
    "    labels = []\n",
    "    \n",
    "    with progressbar.ProgressBar(max_value=n) as bar:\n",
    "        for i in range(n):\n",
    "#             print(hands[i])\n",
    "            img1 = cv2.imread(path + 'hand/' + hands[i], color)\n",
    "            img1 = img1.reshape((1, img_width, img_height, n_channels)) // 255\n",
    "            labels.append(0)\n",
    "#             print(no_hands[i])\n",
    "            img2 = cv2.imread(path + 'no_hand/' + no_hands[i], color)\n",
    "            img2 = img2.reshape((1, img_width, img_height, n_channels)) // 255\n",
    "            labels.append(1)\n",
    "            data = np.concatenate((data, img1, img2))\n",
    "            bar.update(i)\n",
    "    \n",
    "    return data[1:], labels"
   ]
  },
  {
   "cell_type": "code",
   "execution_count": 5,
   "metadata": {},
   "outputs": [
    {
     "name": "stderr",
     "output_type": "stream",
     "text": [
      "100% (6996 of 6996) |#####################| Elapsed Time: 0:44:27 Time: 0:44:27\n"
     ]
    }
   ],
   "source": [
    "path = '/Users/alejandro/AnacondaProjects/Hand_Data/train/'\n",
    "train_feat, train_lab = get_data(path, 6000, color=rbg)"
   ]
  },
  {
   "cell_type": "code",
   "execution_count": 11,
   "metadata": {},
   "outputs": [
    {
     "name": "stdout",
     "output_type": "stream",
     "text": [
      "train features: (12000, 100, 80, 1), train labels: 12000\n"
     ]
    }
   ],
   "source": [
    "print('train features: {}, train labels: {}'.format(train_feat.shape, len(train_lab)))"
   ]
  },
  {
   "cell_type": "code",
   "execution_count": 6,
   "metadata": {},
   "outputs": [],
   "source": [
    "with open('/Users/alejandro/AnacondaProjects/train_set.pkl', 'wb') as file:\n",
    "    pickle.dump((train_feat, train_lab), file)"
   ]
  },
  {
   "cell_type": "code",
   "execution_count": 17,
   "metadata": {},
   "outputs": [
    {
     "name": "stderr",
     "output_type": "stream",
     "text": [
      "100% (1500 of 1500) |#####################| Elapsed Time: 0:01:32 Time: 0:01:32\n"
     ]
    }
   ],
   "source": [
    "path = '/Users/alejandro/AnacondaProjects/Hand_Data/dev/'\n",
    "dev_feat, dev_lab = get_data(path, 1500, color=rbg)"
   ]
  },
  {
   "cell_type": "code",
   "execution_count": 18,
   "metadata": {},
   "outputs": [
    {
     "name": "stdout",
     "output_type": "stream",
     "text": [
      "dev features: (3000, 100, 80, 1), dev labels: 3000\n"
     ]
    }
   ],
   "source": [
    "print('dev features: {}, dev labels: {}'.format(dev_feat.shape, len(dev_lab)))"
   ]
  },
  {
   "cell_type": "code",
   "execution_count": 19,
   "metadata": {},
   "outputs": [],
   "source": [
    "with open('/Users/alejandro/AnacondaProjects/dev_set.pkl', 'wb') as file:\n",
    "    pickle.dump((dev_feat, dev_lab), file)"
   ]
  },
  {
   "cell_type": "code",
   "execution_count": null,
   "metadata": {},
   "outputs": [],
   "source": []
  }
 ],
 "metadata": {
  "kernelspec": {
   "display_name": "Python 3",
   "language": "python",
   "name": "python3"
  },
  "language_info": {
   "codemirror_mode": {
    "name": "ipython",
    "version": 3
   },
   "file_extension": ".py",
   "mimetype": "text/x-python",
   "name": "python",
   "nbconvert_exporter": "python",
   "pygments_lexer": "ipython3",
   "version": "3.6.4"
  }
 },
 "nbformat": 4,
 "nbformat_minor": 2
}
