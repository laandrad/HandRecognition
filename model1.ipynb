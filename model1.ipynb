{
 "cells": [
  {
   "cell_type": "code",
   "execution_count": 1,
   "metadata": {},
   "outputs": [
    {
     "name": "stderr",
     "output_type": "stream",
     "text": [
      "Using TensorFlow backend.\n"
     ]
    }
   ],
   "source": [
    "from keras.models import Sequential\n",
    "from keras.layers import Conv2D, MaxPooling2D\n",
    "from keras.layers import Activation, Dropout, Flatten, Dense\n",
    "from keras import backend as K\n",
    "\n",
    "import os\n",
    "import numpy as np\n",
    "import cv2\n",
    "import progressbar"
   ]
  },
  {
   "cell_type": "code",
   "execution_count": 2,
   "metadata": {},
   "outputs": [],
   "source": [
    "# dimensions of our images.\n",
    "img_width, img_height = 40, 50\n",
    "\n",
    "train_data_dir = '/Users/alejandro/Dropbox (Work)/Hand_Data/train/'\n",
    "nb_train_samples = np.sum((len(os.listdir(train_data_dir + 'hand')), \n",
    "                           len(os.listdir(train_data_dir + 'no_hand'))))\n",
    "epochs = 5\n",
    "batch_size = 100\n",
    "n_channels = 1\n",
    "rbg = 0"
   ]
  },
  {
   "cell_type": "code",
   "execution_count": 3,
   "metadata": {},
   "outputs": [],
   "source": [
    "def get_data(path, color=0):\n",
    "    hands = os.listdir(path + 'hand/')\n",
    "    no_hands = os.listdir(path + 'no_hand/')\n",
    "    \n",
    "    data = np.zeros((1, img_width, img_height, n_channels))\n",
    "    \n",
    "    with progressbar.ProgressBar(max_value=len(hands)) as bar:\n",
    "        for i in range(len(hands)):\n",
    "            img1 = cv2.imread(path + 'hand/' + hands[i], color)\n",
    "            img1 = img1.reshape((1, img_width, img_height, n_channels)) // 255\n",
    "            img2 = cv2.imread(path + 'no_hand/' + no_hands[i], color)\n",
    "            img2 = img2.reshape((1, img_width, img_height, n_channels)) // 255\n",
    "            data = np.concatenate((data, img1, img2))\n",
    "            bar.update(i)\n",
    "    labels = np.repeat([0, 1], len(hands))\n",
    "    \n",
    "    return data[1:], labels"
   ]
  },
  {
   "cell_type": "code",
   "execution_count": 4,
   "metadata": {},
   "outputs": [
    {
     "name": "stderr",
     "output_type": "stream",
     "text": [
      "100% (4527 of 4527) |#####################| Elapsed Time: 0:03:40 Time: 0:03:40\n"
     ]
    }
   ],
   "source": [
    "path = '/Users/alejandro/Dropbox (Work)/Hand_Data/train/'\n",
    "train_feat, train_lab = get_data(path, color=rbg)"
   ]
  },
  {
   "cell_type": "code",
   "execution_count": 5,
   "metadata": {},
   "outputs": [
    {
     "name": "stderr",
     "output_type": "stream",
     "text": [
      "100% (909 of 909) |#######################| Elapsed Time: 0:00:10 Time: 0:00:10\n"
     ]
    }
   ],
   "source": [
    "path = '/Users/alejandro/Dropbox (Work)/Hand_Data/dev/'\n",
    "dev_feat, dev_lab = get_data(path, color=rbg)"
   ]
  },
  {
   "cell_type": "code",
   "execution_count": 6,
   "metadata": {},
   "outputs": [],
   "source": [
    "if K.image_data_format() == 'channels_first':\n",
    "    input_shape = (n_channels, img_width, img_height)\n",
    "else:\n",
    "    input_shape = (img_width, img_height, n_channels)\n",
    "\n",
    "# layer 1\n",
    "model = Sequential()\n",
    "model.add(Conv2D(512, (5, 5), input_shape=input_shape))\n",
    "model.add(Activation('relu'))\n",
    "model.add(Dropout(0.8))\n",
    "model.add(MaxPooling2D(pool_size=(2, 2)))\n",
    "\n",
    "# layer 2\n",
    "model = Sequential()\n",
    "model.add(Conv2D(512, (5, 5), input_shape=input_shape))\n",
    "model.add(Activation('relu'))\n",
    "model.add(Dropout(0.8))\n",
    "model.add(MaxPooling2D(pool_size=(2, 2)))\n",
    "\n",
    "# layer 3\n",
    "model = Sequential()\n",
    "model.add(Conv2D(512, (5, 5), input_shape=input_shape))\n",
    "model.add(Activation('relu'))\n",
    "model.add(Dropout(0.8))\n",
    "model.add(MaxPooling2D(pool_size=(2, 2)))\n",
    "\n",
    "# layer 4\n",
    "model.add(Conv2D(256, (3, 3)))\n",
    "model.add(Activation('relu'))\n",
    "model.add(Dropout(0.8))\n",
    "model.add(MaxPooling2D(pool_size=(2, 2)))\n",
    "\n",
    "# layer 5\n",
    "model.add(Conv2D(128, (3, 3)))\n",
    "model.add(Activation('relu'))\n",
    "model.add(Dropout(0.8))\n",
    "model.add(MaxPooling2D(pool_size=(2, 2)))\n",
    "\n",
    "# layer 6\n",
    "model.add(Conv2D(64, (2, 2)))\n",
    "model.add(Activation('relu'))\n",
    "model.add(Dropout(0.8))\n",
    "model.add(MaxPooling2D(pool_size=(2, 2)))\n",
    "\n",
    "model.add(Flatten())\n",
    "\n",
    "# layer 7\n",
    "model.add(Dense(64))\n",
    "model.add(Activation('relu'))\n",
    "model.add(Dropout(0.8))\n",
    "\n",
    "# layer 8\n",
    "model.add(Dense(64))\n",
    "model.add(Activation('relu'))\n",
    "model.add(Dropout(0.8))\n",
    "\n",
    "# layer 9\n",
    "model.add(Dense(32))\n",
    "model.add(Activation('relu'))\n",
    "model.add(Dropout(0.8))\n",
    "\n",
    "# layer 10\n",
    "model.add(Dense(1))\n",
    "model.add(Activation('sigmoid'))\n",
    "\n",
    "model.compile(loss='binary_crossentropy',\n",
    "              optimizer='adagrad',\n",
    "              metrics=['accuracy'])"
   ]
  },
  {
   "cell_type": "code",
   "execution_count": 7,
   "metadata": {},
   "outputs": [
    {
     "name": "stdout",
     "output_type": "stream",
     "text": [
      "Train on 9054 samples, validate on 1818 samples\n",
      "Epoch 1/5\n",
      "9054/9054 [==============================] - 417s 46ms/step - loss: 7.3491 - acc: 0.4981 - val_loss: 1.7643 - val_acc: 0.5000\n",
      "Epoch 2/5\n",
      "9054/9054 [==============================] - 421s 46ms/step - loss: 7.4873 - acc: 0.5046 - val_loss: 1.1804 - val_acc: 0.5000\n",
      "Epoch 3/5\n",
      "9054/9054 [==============================] - 413s 46ms/step - loss: 6.3612 - acc: 0.4964 - val_loss: 0.6932 - val_acc: 0.5000\n",
      "Epoch 4/5\n",
      "9054/9054 [==============================] - 1356s 150ms/step - loss: 0.7066 - acc: 0.5081 - val_loss: 0.6932 - val_acc: 0.5000\n",
      "Epoch 5/5\n",
      "9054/9054 [==============================] - 419s 46ms/step - loss: 0.6937 - acc: 0.4972 - val_loss: 0.6932 - val_acc: 0.5000\n"
     ]
    },
    {
     "data": {
      "text/plain": [
       "<keras.callbacks.History at 0x1259b5198>"
      ]
     },
     "execution_count": 7,
     "metadata": {},
     "output_type": "execute_result"
    }
   ],
   "source": [
    "model.fit(\n",
    "    train_feat, \n",
    "    train_lab, \n",
    "    batch_size=batch_size, \n",
    "    epochs=epochs, \n",
    "    verbose=1,\n",
    "    validation_data=(dev_feat, dev_lab),\n",
    "    shuffle=True)"
   ]
  },
  {
   "cell_type": "code",
   "execution_count": 8,
   "metadata": {},
   "outputs": [],
   "source": [
    "model.save('/Users/alejandro/AnacondaProjects/cv/model_from_edges.h5')"
   ]
  },
  {
   "cell_type": "code",
   "execution_count": 9,
   "metadata": {},
   "outputs": [],
   "source": [
    "from keras.models import load_model\n",
    "model2 = load_model('/Users/alejandro/AnacondaProjects/cv/model_from_edges.h5')"
   ]
  },
  {
   "cell_type": "code",
   "execution_count": 10,
   "metadata": {},
   "outputs": [],
   "source": [
    "def pred_from_file(files, model, color=0):\n",
    "    predictions = []\n",
    "    with progressbar.ProgressBar(max_value=len(files)) as bar:\n",
    "        for i in range(len(files)):\n",
    "            img = cv2.imread(path + files[i], color)\n",
    "            img = img.reshape((1, img_width, img_height, n_channels))//255\n",
    "            pred = model.predict(img)\n",
    "            pred = np.argmax(pred)\n",
    "            predictions.append(pred)\n",
    "            bar.update(i)\n",
    "    return predictions"
   ]
  },
  {
   "cell_type": "code",
   "execution_count": 11,
   "metadata": {},
   "outputs": [
    {
     "name": "stderr",
     "output_type": "stream",
     "text": [
      "100% (4527 of 4527) |#####################| Elapsed Time: 0:00:57 Time: 0:00:57\n"
     ]
    }
   ],
   "source": [
    "# In-sample performance\n",
    "path = '/Users/alejandro/Dropbox (Work)/Hand_Data/train/hand/'\n",
    "files = os.listdir(path)\n",
    "pred_hand = pred_from_file(files, model2, color=rbg)"
   ]
  },
  {
   "cell_type": "code",
   "execution_count": 12,
   "metadata": {},
   "outputs": [
    {
     "name": "stderr",
     "output_type": "stream",
     "text": [
      "100% (5360 of 5360) |#####################| Elapsed Time: 0:01:07 Time: 0:01:07\n"
     ]
    }
   ],
   "source": [
    "path = '/Users/alejandro/Dropbox (Work)/Hand_Data/train/no_hand/'\n",
    "files = os.listdir(path)\n",
    "pred_no_hand = pred_from_file(files, model2, color=rbg)"
   ]
  },
  {
   "cell_type": "code",
   "execution_count": 13,
   "metadata": {},
   "outputs": [
    {
     "data": {
      "text/plain": [
       "[0, 0, 0, 0, 0, 0, 0, 0, 0, 0]"
      ]
     },
     "execution_count": 13,
     "metadata": {},
     "output_type": "execute_result"
    }
   ],
   "source": [
    "pred_no_hand[:10]"
   ]
  },
  {
   "cell_type": "code",
   "execution_count": 14,
   "metadata": {},
   "outputs": [
    {
     "name": "stdout",
     "output_type": "stream",
     "text": [
      "In-sample performance:\n",
      "False negatives rate: 0.0\n",
      "False positive rate: 100.0\n",
      "Accuracy: 0.5\n"
     ]
    }
   ],
   "source": [
    "FN = round(np.sum(pred_hand)/len(files), 4) * 100\n",
    "FP = 100 - round(np.sum(pred_no_hand)/len(files), 4) * 100\n",
    "TN = 100 - FN\n",
    "TP = 100 - FP\n",
    "Acc = (TP + TN) / (TP + TN + FP + FN)\n",
    "\n",
    "print('In-sample performance:')\n",
    "print('False negatives rate:', FN)\n",
    "print('False positive rate:', FP)\n",
    "print('Accuracy:', Acc)"
   ]
  },
  {
   "cell_type": "code",
   "execution_count": 15,
   "metadata": {},
   "outputs": [
    {
     "name": "stderr",
     "output_type": "stream",
     "text": [
      "100% (909 of 909) |#######################| Elapsed Time: 0:00:11 Time: 0:00:11\n"
     ]
    }
   ],
   "source": [
    "# Out of sample performance\n",
    "path = '/Users/alejandro/Dropbox (Work)/Hand_Data/dev/hand/'\n",
    "files = os.listdir(path)\n",
    "pred_hand = pred_from_file(files, model2, color=rbg)"
   ]
  },
  {
   "cell_type": "code",
   "execution_count": 16,
   "metadata": {},
   "outputs": [
    {
     "name": "stderr",
     "output_type": "stream",
     "text": [
      "100% (1102 of 1102) |#####################| Elapsed Time: 0:00:13 Time: 0:00:13\n"
     ]
    }
   ],
   "source": [
    "path = '/Users/alejandro/Dropbox (Work)/Hand_Data/dev/no_hand/'\n",
    "files = os.listdir(path)\n",
    "pred_no_hand = pred_from_file(files, model2, color=rbg)"
   ]
  },
  {
   "cell_type": "code",
   "execution_count": 17,
   "metadata": {},
   "outputs": [
    {
     "name": "stdout",
     "output_type": "stream",
     "text": [
      "Out-of-sample performance:\n",
      "False negatives rate: 0.0\n",
      "False positive rate: 100.0\n",
      "Accuracy: 0.5\n"
     ]
    }
   ],
   "source": [
    "FN = round(np.sum(pred_hand)/len(files), 4) * 100\n",
    "FP = 100 - round(np.sum(pred_no_hand)/len(files), 4) * 100\n",
    "TN = 100 - FN\n",
    "TP = 100 - FP\n",
    "Acc = (TP + TN) / (TP + TN + FP + FN)\n",
    "\n",
    "print('Out-of-sample performance:')\n",
    "print('False negatives rate:', FN)\n",
    "print('False positive rate:', FP)\n",
    "print('Accuracy:', Acc)"
   ]
  },
  {
   "cell_type": "code",
   "execution_count": null,
   "metadata": {},
   "outputs": [],
   "source": []
  }
 ],
 "metadata": {
  "kernelspec": {
   "display_name": "Python 3",
   "language": "python",
   "name": "python3"
  },
  "language_info": {
   "codemirror_mode": {
    "name": "ipython",
    "version": 3
   },
   "file_extension": ".py",
   "mimetype": "text/x-python",
   "name": "python",
   "nbconvert_exporter": "python",
   "pygments_lexer": "ipython3",
   "version": "3.6.4"
  }
 },
 "nbformat": 4,
 "nbformat_minor": 2
}
