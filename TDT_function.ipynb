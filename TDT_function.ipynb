{
 "cells": [
  {
   "cell_type": "code",
   "execution_count": 1,
   "metadata": {},
   "outputs": [],
   "source": [
    "import os\n",
    "import itertools\n",
    "import progressbar\n",
    "import cv2\n",
    "import numpy as np\n",
    "import pandas as pd"
   ]
  },
  {
   "cell_type": "code",
   "execution_count": 2,
   "metadata": {},
   "outputs": [],
   "source": [
    "def preprocess(paths, labels, path_out):\n",
    "    for i in range(len(paths)):\n",
    "        copy_to_path(paths[i], labels[i], path_out)\n",
    "\n",
    "\n",
    "def copy_to_path(path, label, path_out):\n",
    "    \n",
    "    datasets = tdt_split(path)\n",
    "    os.makedirs(path_out + 'train/' + label, exist_ok=True)\n",
    "    os.makedirs(path_out + 'dev/' + label, exist_ok=True)\n",
    "    os.makedirs(path_out + 'test/' + label, exist_ok=True)\n",
    "    \n",
    "    dat_type = ['train', 'dev', 'test']\n",
    "    for i in range(len(dat_type)):\n",
    "        print(\"working on:\", path_out + dat_type[i] + '/' + label + '/')\n",
    "        copy_reduce_image(path, datasets[dat_type[i]], path_out + dat_type[i] + '/' + label + '/')\n",
    " \n",
    "    \n",
    "def copy_reduce_image(path_in, folder, path_out):\n",
    "    files = list(folder)\n",
    "    for i in range(len(files)):\n",
    "        img = cv2.imread(path_in + files[i], 0)\n",
    "        img = cv2.Canny(img, 75, 150)\n",
    "        img = cv2.resize(img, (40, 50))\n",
    "        cv2.imwrite(path_out + files[i], img)\n",
    "\n",
    "\n",
    "def tdt_split(path):\n",
    "    files = os.listdir(path)\n",
    "    files = [x for x in files if x.endswith('.jpg')]\n",
    "    files = pd.Series(files)\n",
    "    subsample = pd.Series(np.random.choice(3, len(files), p=[0.7, 0.15, 0.15]))\n",
    "    df = pd.DataFrame({'files': files, 'sample': list(subsample)})\n",
    "    dict = {}\n",
    "    dict['train'] = df.files[df['sample'] == 0]\n",
    "    dict['dev'] = df.files[df['sample'] == 1]\n",
    "    dict['test'] = df.files[df['sample'] == 2]\n",
    "    \n",
    "    return dict\n",
    " \n"
   ]
  },
  {
   "cell_type": "code",
   "execution_count": 3,
   "metadata": {},
   "outputs": [],
   "source": [
    "path1 = '/Users/alejandro/Dropbox (Work)/Hand_Data/Hands/'\n",
    "path2 = '/Users/alejandro/Dropbox (Work)/Hand_Data/No_hands/'\n",
    "path_out = '/Users/alejandro/Dropbox (Work)/Hand_Data/'\n",
    "paths = [path1, path2]\n",
    "labels = ['hand', 'no_hand']"
   ]
  },
  {
   "cell_type": "code",
   "execution_count": 4,
   "metadata": {},
   "outputs": [
    {
     "name": "stdout",
     "output_type": "stream",
     "text": [
      "working on: /Users/alejandro/Dropbox (Work)/Hand_Data/train/hand/\n",
      "working on: /Users/alejandro/Dropbox (Work)/Hand_Data/dev/hand/\n",
      "working on: /Users/alejandro/Dropbox (Work)/Hand_Data/test/hand/\n",
      "working on: /Users/alejandro/Dropbox (Work)/Hand_Data/train/no_hand/\n",
      "working on: /Users/alejandro/Dropbox (Work)/Hand_Data/dev/no_hand/\n",
      "working on: /Users/alejandro/Dropbox (Work)/Hand_Data/test/no_hand/\n"
     ]
    }
   ],
   "source": [
    "preprocess(paths, labels, path_out)"
   ]
  },
  {
   "cell_type": "code",
   "execution_count": null,
   "metadata": {},
   "outputs": [],
   "source": []
  }
 ],
 "metadata": {
  "kernelspec": {
   "display_name": "Python 3",
   "language": "python",
   "name": "python3"
  },
  "language_info": {
   "codemirror_mode": {
    "name": "ipython",
    "version": 3
   },
   "file_extension": ".py",
   "mimetype": "text/x-python",
   "name": "python",
   "nbconvert_exporter": "python",
   "pygments_lexer": "ipython3",
   "version": "3.6.4"
  }
 },
 "nbformat": 4,
 "nbformat_minor": 2
}
